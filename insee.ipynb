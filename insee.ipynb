{
 "cells": [
  {
   "cell_type": "code",
   "execution_count": 30,
   "metadata": {},
   "outputs": [],
   "source": [
    "import pandas as pd\n",
    "import json\n",
    "from pathlib import Path"
   ]
  },
  {
   "cell_type": "code",
   "execution_count": 32,
   "metadata": {},
   "outputs": [],
   "source": [
    "CUR_DIR = Path.cwd()\n",
    "JSON_FILE = CUR_DIR/\"Codepos.json\""
   ]
  },
  {
   "cell_type": "code",
   "execution_count": 20,
   "metadata": {},
   "outputs": [
    {
     "data": {
      "text/html": [
       "<div>\n",
       "<style scoped>\n",
       "    .dataframe tbody tr th:only-of-type {\n",
       "        vertical-align: middle;\n",
       "    }\n",
       "\n",
       "    .dataframe tbody tr th {\n",
       "        vertical-align: top;\n",
       "    }\n",
       "\n",
       "    .dataframe thead th {\n",
       "        text-align: right;\n",
       "    }\n",
       "</style>\n",
       "<table border=\"1\" class=\"dataframe\">\n",
       "  <thead>\n",
       "    <tr style=\"text-align: right;\">\n",
       "      <th></th>\n",
       "      <th>Commune</th>\n",
       "      <th>Codepos</th>\n",
       "      <th>Departement</th>\n",
       "      <th>INSEE</th>\n",
       "    </tr>\n",
       "  </thead>\n",
       "  <tbody>\n",
       "    <tr>\n",
       "      <th>0</th>\n",
       "      <td>L ABERGEMENT CLEMENCIAT</td>\n",
       "      <td>01400</td>\n",
       "      <td>AIN</td>\n",
       "      <td>1001</td>\n",
       "    </tr>\n",
       "    <tr>\n",
       "      <th>1</th>\n",
       "      <td>L ABERGEMENT DE VAREY</td>\n",
       "      <td>01640</td>\n",
       "      <td>AIN</td>\n",
       "      <td>1002</td>\n",
       "    </tr>\n",
       "    <tr>\n",
       "      <th>2</th>\n",
       "      <td>AMAREINS</td>\n",
       "      <td>01090</td>\n",
       "      <td>AIN</td>\n",
       "      <td>1003</td>\n",
       "    </tr>\n",
       "    <tr>\n",
       "      <th>3</th>\n",
       "      <td>AMBERIEU EN BUGEY</td>\n",
       "      <td>01500</td>\n",
       "      <td>AIN</td>\n",
       "      <td>1004</td>\n",
       "    </tr>\n",
       "    <tr>\n",
       "      <th>4</th>\n",
       "      <td>AMBERIEUX EN DOMBES</td>\n",
       "      <td>01330</td>\n",
       "      <td>AIN</td>\n",
       "      <td>1005</td>\n",
       "    </tr>\n",
       "  </tbody>\n",
       "</table>\n",
       "</div>"
      ],
      "text/plain": [
       "                   Commune Codepos Departement  INSEE\n",
       "0  L ABERGEMENT CLEMENCIAT   01400         AIN   1001\n",
       "1    L ABERGEMENT DE VAREY   01640         AIN   1002\n",
       "2                 AMAREINS   01090         AIN   1003\n",
       "3        AMBERIEU EN BUGEY   01500         AIN   1004\n",
       "4      AMBERIEUX EN DOMBES   01330         AIN   1005"
      ]
     },
     "execution_count": 20,
     "metadata": {},
     "output_type": "execute_result"
    }
   ],
   "source": [
    "data = pd.read_csv(\"insee.csv\", delimiter=\";\", encoding=\"latin-1\")\n",
    "data.head()"
   ]
  },
  {
   "cell_type": "code",
   "execution_count": 21,
   "metadata": {},
   "outputs": [],
   "source": [
    "data.dropna(inplace=True)\n"
   ]
  },
  {
   "cell_type": "code",
   "execution_count": 26,
   "metadata": {},
   "outputs": [],
   "source": [
    "code77 = data[data.Codepos.str.startswith(\"77\")][[\"Commune\",\"Codepos\"]]"
   ]
  },
  {
   "cell_type": "code",
   "execution_count": 46,
   "metadata": {},
   "outputs": [],
   "source": [
    "rest = code77.to_json(orient=\"values\")\n",
    "parsed = json.loads(rest)"
   ]
  },
  {
   "cell_type": "code",
   "execution_count": 47,
   "metadata": {},
   "outputs": [],
   "source": [
    "with open(JSON_FILE, \"w\") as f:\n",
    "    json.dump(parsed,f, indent=4)"
   ]
  }
 ],
 "metadata": {
  "interpreter": {
   "hash": "6ff1f2b07e3ccae9dcf06b1a971b6beed9dba308c346a011553d88afdca2e0d4"
  },
  "kernelspec": {
   "display_name": "Python 3.8.11 64-bit ('machine_learning': conda)",
   "language": "python",
   "name": "python3"
  },
  "language_info": {
   "codemirror_mode": {
    "name": "ipython",
    "version": 3
   },
   "file_extension": ".py",
   "mimetype": "text/x-python",
   "name": "python",
   "nbconvert_exporter": "python",
   "pygments_lexer": "ipython3",
   "version": "3.8.11"
  },
  "orig_nbformat": 4
 },
 "nbformat": 4,
 "nbformat_minor": 2
}
